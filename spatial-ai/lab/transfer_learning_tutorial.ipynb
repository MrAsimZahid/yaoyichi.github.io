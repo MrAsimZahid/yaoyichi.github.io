{
 "cells": [
  {
   "cell_type": "code",
   "execution_count": 1,
   "metadata": {
    "executionInfo": {
     "elapsed": 116,
     "status": "ok",
     "timestamp": 1646198495724,
     "user": {
      "displayName": "Zekun Li",
      "photoUrl": "https://lh3.googleusercontent.com/a/default-user=s64",
      "userId": "12189330262811539409"
     },
     "user_tz": 360
    },
    "id": "hXFiHRrjPsLO"
   },
   "outputs": [],
   "source": [
    "%matplotlib inline\n"
   ]
  },
  {
   "cell_type": "markdown",
   "metadata": {
    "id": "r5K1I-tkPsLS"
   },
   "source": [
    "\n",
    "Transfer Learning for Computer Vision Tutorial\n",
    "==============================================\n",
    "**Author**: `Sasank Chilamkurthy <https://chsasank.github.io>`_\n",
    "\n",
    "In this tutorial, you will learn how to train a convolutional neural network for\n",
    "image classification using transfer learning. You can read more about the transfer\n",
    "learning at `cs231n notes <https://cs231n.github.io/transfer-learning/>`__\n",
    "\n",
    "Quoting these notes,\n",
    "\n",
    "    In practice, very few people train an entire Convolutional Network\n",
    "    from scratch (with random initialization), because it is relatively\n",
    "    rare to have a dataset of sufficient size. Instead, it is common to\n",
    "    pretrain a ConvNet on a very large dataset (e.g. ImageNet, which\n",
    "    contains 1.2 million images with 1000 categories), and then use the\n",
    "    ConvNet either as an initialization or a fixed feature extractor for\n",
    "    the task of interest.\n",
    "\n",
    "These two major transfer learning scenarios look as follows:\n",
    "\n",
    "-  **Finetuning the convnet**: Instead of random initialization, we\n",
    "   initialize the network with a pretrained network, like the one that is\n",
    "   trained on imagenet 1000 dataset. Rest of the training looks as\n",
    "   usual.\n",
    "-  **ConvNet as fixed feature extractor**: Here, we will freeze the weights\n",
    "   for all of the network except that of the final fully connected\n",
    "   layer. This last fully connected layer is replaced with a new one\n",
    "   with random weights and only this layer is trained.\n",
    "\n",
    "\n"
   ]
  },
  {
   "cell_type": "code",
   "execution_count": 2,
   "metadata": {
    "executionInfo": {
     "elapsed": 7227,
     "status": "ok",
     "timestamp": 1646198504702,
     "user": {
      "displayName": "Zekun Li",
      "photoUrl": "https://lh3.googleusercontent.com/a/default-user=s64",
      "userId": "12189330262811539409"
     },
     "user_tz": 360
    },
    "id": "cVcpxiKvPsLU"
   },
   "outputs": [],
   "source": [
    "# License: BSD\n",
    "# Author: Sasank Chilamkurthy\n",
    "\n",
    "from __future__ import print_function, division\n",
    "\n",
    "import torch\n",
    "import torch.nn as nn\n",
    "import torch.optim as optim\n",
    "from torch.optim import lr_scheduler\n",
    "import torch.backends.cudnn as cudnn\n",
    "import numpy as np\n",
    "import torchvision\n",
    "from torchvision import datasets, models, transforms\n",
    "import matplotlib.pyplot as plt\n",
    "import time\n",
    "import os\n",
    "import copy\n",
    "\n",
    "cudnn.benchmark = True\n",
    "plt.ion()   # interactive mode"
   ]
  },
  {
   "cell_type": "markdown",
   "metadata": {
    "id": "5aEpyf-tPsLV"
   },
   "source": [
    "Load Data\n",
    "---------\n",
    "\n",
    "We will use torchvision and torch.utils.data packages for loading the\n",
    "data.\n",
    "\n",
    "The problem we're going to solve today is to train a model to classify\n",
    "**ants** and **bees**. We have about 120 training images each for ants and bees.\n",
    "There are 75 validation images for each class. Usually, this is a very\n",
    "small dataset to generalize upon, if trained from scratch. Since we\n",
    "are using transfer learning, we should be able to generalize reasonably\n",
    "well.\n",
    "\n",
    "This dataset is a very small subset of imagenet.\n",
    "\n",
    ".. Note ::\n",
    "   Download the data from\n",
    "   `here <https://download.pytorch.org/tutorial/hymenoptera_data.zip>`_\n",
    "   and extract it to the current directory.\n",
    "\n"
   ]
  },
  {
   "cell_type": "code",
   "execution_count": 3,
   "metadata": {
    "colab": {
     "base_uri": "https://localhost:8080/"
    },
    "executionInfo": {
     "elapsed": 15823,
     "status": "ok",
     "timestamp": 1646198520521,
     "user": {
      "displayName": "Zekun Li",
      "photoUrl": "https://lh3.googleusercontent.com/a/default-user=s64",
      "userId": "12189330262811539409"
     },
     "user_tz": 360
    },
    "id": "e5zkHpTfD4kv",
    "outputId": "94ea8408-9285-47b6-ea61-9e824e078914"
   },
   "outputs": [
    {
     "name": "stdout",
     "output_type": "stream",
     "text": [
      "Mounted at /content/drive\n"
     ]
    }
   ],
   "source": [
    "from google.colab import drive\n",
    "drive.mount('/content/drive')"
   ]
  },
  {
   "cell_type": "code",
   "execution_count": 4,
   "metadata": {
    "executionInfo": {
     "elapsed": 2834,
     "status": "ok",
     "timestamp": 1646198526032,
     "user": {
      "displayName": "Zekun Li",
      "photoUrl": "https://lh3.googleusercontent.com/a/default-user=s64",
      "userId": "12189330262811539409"
     },
     "user_tz": 360
    },
    "id": "gYIInpLbELIV"
   },
   "outputs": [],
   "source": [
    "!unzip -q drive/MyDrive/Course_SpatialAI/Lecture/GoogleColab/hymenoptera_data.zip -d . "
   ]
  },
  {
   "cell_type": "code",
   "execution_count": 5,
   "metadata": {
    "colab": {
     "base_uri": "https://localhost:8080/"
    },
    "executionInfo": {
     "elapsed": 176,
     "status": "ok",
     "timestamp": 1646198531241,
     "user": {
      "displayName": "Zekun Li",
      "photoUrl": "https://lh3.googleusercontent.com/a/default-user=s64",
      "userId": "12189330262811539409"
     },
     "user_tz": 360
    },
    "id": "Dx4k5NNoPsLW",
    "outputId": "d32374bc-fb01-4b40-8657-45605c6aefc0"
   },
   "outputs": [
    {
     "name": "stderr",
     "output_type": "stream",
     "text": [
      "/usr/local/lib/python3.7/dist-packages/torch/utils/data/dataloader.py:481: UserWarning: This DataLoader will create 4 worker processes in total. Our suggested max number of worker in current system is 2, which is smaller than what this DataLoader is going to create. Please be aware that excessive worker creation might get DataLoader running slow or even freeze, lower the worker number to avoid potential slowness/freeze if necessary.\n",
      "  cpuset_checked))\n"
     ]
    }
   ],
   "source": [
    "# Data augmentation and normalization for training\n",
    "# Just normalization for validation\n",
    "data_transforms = {\n",
    "    'train': transforms.Compose([\n",
    "        transforms.RandomResizedCrop(224),\n",
    "        transforms.RandomHorizontalFlip(),\n",
    "        transforms.ToTensor(),\n",
    "        transforms.Normalize([0.485, 0.456, 0.406], [0.229, 0.224, 0.225])\n",
    "    ]),\n",
    "    'val': transforms.Compose([\n",
    "        transforms.Resize(256),\n",
    "        transforms.CenterCrop(224),\n",
    "        transforms.ToTensor(),\n",
    "        transforms.Normalize([0.485, 0.456, 0.406], [0.229, 0.224, 0.225])\n",
    "    ]),\n",
    "}\n",
    "\n",
    "data_dir = 'hymenoptera_data'\n",
    "image_datasets = {x: datasets.ImageFolder(os.path.join(data_dir, x),\n",
    "                                          data_transforms[x])\n",
    "                  for x in ['train', 'val']}\n",
    "dataloaders = {x: torch.utils.data.DataLoader(image_datasets[x], batch_size=4,\n",
    "                                             shuffle=True, num_workers=4)\n",
    "              for x in ['train', 'val']}\n",
    "dataset_sizes = {x: len(image_datasets[x]) for x in ['train', 'val']}\n",
    "class_names = image_datasets['train'].classes\n",
    "\n",
    "device = torch.device(\"cuda:0\" if torch.cuda.is_available() else \"cpu\")"
   ]
  },
  {
   "cell_type": "markdown",
   "metadata": {
    "id": "Tj-4-DurPsLX"
   },
   "source": [
    "Visualize a few images\n",
    "^^^^^^^^^^^^^^^^^^^^^^\n",
    "Let's visualize a few training images so as to understand the data\n",
    "augmentations.\n",
    "\n"
   ]
  },
  {
   "cell_type": "code",
   "execution_count": 6,
   "metadata": {
    "colab": {
     "base_uri": "https://localhost:8080/",
     "height": 203
    },
    "executionInfo": {
     "elapsed": 1032,
     "status": "ok",
     "timestamp": 1646198535424,
     "user": {
      "displayName": "Zekun Li",
      "photoUrl": "https://lh3.googleusercontent.com/a/default-user=s64",
      "userId": "12189330262811539409"
     },
     "user_tz": 360
    },
    "id": "JS_r0d64PsLY",
    "outputId": "250b9140-2f06-4a6e-e4a4-116abafbb2ad"
   },
   "outputs": [
    {
     "name": "stderr",
     "output_type": "stream",
     "text": [
      "/usr/local/lib/python3.7/dist-packages/torch/utils/data/dataloader.py:481: UserWarning: This DataLoader will create 4 worker processes in total. Our suggested max number of worker in current system is 2, which is smaller than what this DataLoader is going to create. Please be aware that excessive worker creation might get DataLoader running slow or even freeze, lower the worker number to avoid potential slowness/freeze if necessary.\n",
      "  cpuset_checked))\n"
     ]
    },
    {
     "data": {
      "image/png": "[encoded data removed]",
      "text/plain": [
       "<Figure size 432x288 with 1 Axes>"
      ]
     },
     "metadata": {
      "needs_background": "light"
     },
     "output_type": "display_data"
    }
   ],
   "source": [
    "def imshow(inp, title=None):\n",
    "    \"\"\"Imshow for Tensor.\"\"\"\n",
    "    inp = inp.numpy().transpose((1, 2, 0))\n",
    "    mean = np.array([0.485, 0.456, 0.406])\n",
    "    std = np.array([0.229, 0.224, 0.225])\n",
    "    inp = std * inp + mean\n",
    "    inp = np.clip(inp, 0, 1)\n",
    "    plt.imshow(inp)\n",
    "    if title is not None:\n",
    "        plt.title(title)\n",
    "    plt.pause(0.001)  # pause a bit so that plots are updated\n",
    "\n",
    "\n",
    "# Get a batch of training data\n",
    "inputs, classes = next(iter(dataloaders['train']))\n",
    "\n",
    "# Make a grid from batch\n",
    "out = torchvision.utils.make_grid(inputs)\n",
    "\n",
    "imshow(out, title=[class_names[x] for x in classes])"
   ]
  },
  {
   "cell_type": "markdown",
   "metadata": {
    "id": "ge8b1pp-PsLZ"
   },
   "source": [
    "Training the model\n",
    "------------------\n",
    "\n",
    "Now, let's write a general function to train a model. Here, we will\n",
    "illustrate:\n",
    "\n",
    "-  Scheduling the learning rate\n",
    "-  Saving the best model\n",
    "\n",
    "In the following, parameter ``scheduler`` is an LR scheduler object from\n",
    "``torch.optim.lr_scheduler``.\n",
    "\n"
   ]
  },
  {
   "cell_type": "code",
   "execution_count": 7,
   "metadata": {
    "executionInfo": {
     "elapsed": 110,
     "status": "ok",
     "timestamp": 1646198539494,
     "user": {
      "displayName": "Zekun Li",
      "photoUrl": "https://lh3.googleusercontent.com/a/default-user=s64",
      "userId": "12189330262811539409"
     },
     "user_tz": 360
    },
    "id": "6N-V5z7EPsLZ"
   },
   "outputs": [],
   "source": [
    "def train_model(model, criterion, optimizer, scheduler, num_epochs=25):\n",
    "    since = time.time()\n",
    "\n",
    "    best_model_wts = copy.deepcopy(model.state_dict())\n",
    "    best_acc = 0.0\n",
    "\n",
    "    for epoch in range(num_epochs):\n",
    "        print('Epoch {}/{}'.format(epoch, num_epochs - 1))\n",
    "        print('-' * 10)\n",
    "\n",
    "        # Each epoch has a training and validation phase\n",
    "        for phase in ['train', 'val']:\n",
    "            if phase == 'train':\n",
    "                model.train()  # Set model to training mode\n",
    "            else:\n",
    "                model.eval()   # Set model to evaluate mode\n",
    "\n",
    "            running_loss = 0.0\n",
    "            running_corrects = 0\n",
    "\n",
    "            # Iterate over data.\n",
    "            for inputs, labels in dataloaders[phase]:\n",
    "                inputs = inputs.to(device)\n",
    "                labels = labels.to(device)\n",
    "\n",
    "                # zero the parameter gradients\n",
    "                optimizer.zero_grad()\n",
    "\n",
    "                # forward\n",
    "                # track history if only in train\n",
    "                with torch.set_grad_enabled(phase == 'train'):\n",
    "                    outputs = model(inputs)\n",
    "                    _, preds = torch.max(outputs, 1)\n",
    "                    loss = criterion(outputs, labels)\n",
    "\n",
    "                    # backward + optimize only if in training phase\n",
    "                    if phase == 'train':\n",
    "                        loss.backward()\n",
    "                        optimizer.step()\n",
    "\n",
    "                # statistics\n",
    "                running_loss += loss.item() * inputs.size(0)\n",
    "                running_corrects += torch.sum(preds == labels.data)\n",
    "            if phase == 'train':\n",
    "                scheduler.step()\n",
    "\n",
    "            epoch_loss = running_loss / dataset_sizes[phase]\n",
    "            epoch_acc = running_corrects.double() / dataset_sizes[phase]\n",
    "\n",
    "            print('{} Loss: {:.4f} Acc: {:.4f}'.format(\n",
    "                phase, epoch_loss, epoch_acc))\n",
    "\n",
    "            # deep copy the model\n",
    "            if phase == 'val' and epoch_acc > best_acc:\n",
    "                best_acc = epoch_acc\n",
    "                best_model_wts = copy.deepcopy(model.state_dict())\n",
    "\n",
    "        print()\n",
    "\n",
    "    time_elapsed = time.time() - since\n",
    "    print('Training complete in {:.0f}m {:.0f}s'.format(\n",
    "        time_elapsed // 60, time_elapsed % 60))\n",
    "    print('Best val Acc: {:4f}'.format(best_acc))\n",
    "\n",
    "    # load best model weights\n",
    "    model.load_state_dict(best_model_wts)\n",
    "    return model"
   ]
  },
  {
   "cell_type": "markdown",
   "metadata": {
    "id": "_jn7nzhLPsLa"
   },
   "source": [
    "Visualizing the model predictions\n",
    "^^^^^^^^^^^^^^^^^^^^^^^^^^^^^^^^^\n",
    "\n",
    "Generic function to display predictions for a few images\n",
    "\n",
    "\n"
   ]
  },
  {
   "cell_type": "code",
   "execution_count": 8,
   "metadata": {
    "executionInfo": {
     "elapsed": 83,
     "status": "ok",
     "timestamp": 1646198543658,
     "user": {
      "displayName": "Zekun Li",
      "photoUrl": "https://lh3.googleusercontent.com/a/default-user=s64",
      "userId": "12189330262811539409"
     },
     "user_tz": 360
    },
    "id": "arX86VCwPsLb"
   },
   "outputs": [],
   "source": [
    "def visualize_model(model, num_images=6):\n",
    "    was_training = model.training\n",
    "    model.eval()\n",
    "    images_so_far = 0\n",
    "    fig = plt.figure()\n",
    "\n",
    "    with torch.no_grad():\n",
    "        for i, (inputs, labels) in enumerate(dataloaders['val']):\n",
    "            inputs = inputs.to(device)\n",
    "            labels = labels.to(device)\n",
    "\n",
    "            outputs = model(inputs)\n",
    "            _, preds = torch.max(outputs, 1)\n",
    "\n",
    "            for j in range(inputs.size()[0]):\n",
    "                images_so_far += 1\n",
    "                ax = plt.subplot(num_images//2, 2, images_so_far)\n",
    "                ax.axis('off')\n",
    "                ax.set_title('predicted: {}'.format(class_names[preds[j]]))\n",
    "                imshow(inputs.cpu().data[j])\n",
    "\n",
    "                if images_so_far == num_images:\n",
    "                    model.train(mode=was_training)\n",
    "                    return\n",
    "        model.train(mode=was_training)"
   ]
  },
  {
   "cell_type": "markdown",
   "metadata": {
    "id": "2V6VCYd7PsLc"
   },
   "source": [
    "Finetuning the convnet\n",
    "----------------------\n",
    "\n",
    "Load a pretrained model and reset final fully connected layer.\n",
    "\n",
    "\n"
   ]
  },
  {
   "cell_type": "code",
   "execution_count": 9,
   "metadata": {
    "colab": {
     "base_uri": "https://localhost:8080/",
     "height": 66,
     "referenced_widgets": [
      "50418e862f924212bcbad9127e4f2528",
      "d26aa55eb1f94ee68a9258f242f6a313",
      "52d1fd9d3d5e4c2aa0b3773a0080a5b2",
      "1d9976026a8f4aed95445ba76eb666e7",
      "5a34cbe107fb4c3f915aef54a0d18355",
      "426af1949de544218cc5ee7d3340b031",
      "7e75992d47d24e159e48aa1c0f3a4c5a",
      "fbd2fbf82a52451eab01423d241dbcc8",
      "cf70911538474036b9cb4795d9446e4c",
      "a792e301aeaa41b5b9edfa3c8488d624",
      "08522a4d27ab470f9e326b63656886da"
     ]
    },
    "executionInfo": {
     "elapsed": 9825,
     "status": "ok",
     "timestamp": 1646198556144,
     "user": {
      "displayName": "Zekun Li",
      "photoUrl": "https://lh3.googleusercontent.com/a/default-user=s64",
      "userId": "12189330262811539409"
     },
     "user_tz": 360
    },
    "id": "DIISf9nrPsLc",
    "outputId": "6b67d461-723a-4025-8262-8c3c1d49b701"
   },
   "outputs": [
    {
     "name": "stderr",
     "output_type": "stream",
     "text": [
      "Downloading: \"https://download.pytorch.org/models/resnet18-f37072fd.pth\" to /root/.cache/torch/hub/checkpoints/resnet18-f37072fd.pth\n"
     ]
    },
    {
     "data": {
      "application/vnd.jupyter.widget-view+json": {
       "model_id": "50418e862f924212bcbad9127e4f2528",
       "version_major": 2,
       "version_minor": 0
      },
      "text/plain": [
       "  0%|          | 0.00/44.7M [00:00<?, ?B/s]"
      ]
     },
     "metadata": {},
     "output_type": "display_data"
    }
   ],
   "source": [
    "model_ft = models.resnet18(pretrained=True)\n",
    "num_ftrs = model_ft.fc.in_features\n",
    "# Here the size of each output sample is set to 2.\n",
    "# Alternatively, it can be generalized to nn.Linear(num_ftrs, len(class_names)).\n",
    "model_ft.fc = nn.Linear(num_ftrs, 2)\n",
    "\n",
    "model_ft = model_ft.to(device)\n",
    "\n",
    "criterion = nn.CrossEntropyLoss()\n",
    "\n",
    "# Observe that all parameters are being optimized\n",
    "optimizer_ft = optim.SGD(model_ft.parameters(), lr=0.001, momentum=0.9)\n",
    "\n",
    "# Decay LR by a factor of 0.1 every 7 epochs\n",
    "exp_lr_scheduler = lr_scheduler.StepLR(optimizer_ft, step_size=7, gamma=0.1)"
   ]
  },
  {
   "cell_type": "markdown",
   "metadata": {
    "id": "vZnTOPHaPsLc"
   },
   "source": [
    "Train and evaluate\n",
    "^^^^^^^^^^^^^^^^^^\n",
    "\n",
    "It should take around 15-25 min on CPU. On GPU though, it takes less than a\n",
    "minute.\n",
    "\n",
    "\n"
   ]
  },
  {
   "cell_type": "code",
   "execution_count": 10,
   "metadata": {
    "colab": {
     "base_uri": "https://localhost:8080/"
    },
    "executionInfo": {
     "elapsed": 144024,
     "status": "ok",
     "timestamp": 1646198704225,
     "user": {
      "displayName": "Zekun Li",
      "photoUrl": "https://lh3.googleusercontent.com/a/default-user=s64",
      "userId": "12189330262811539409"
     },
     "user_tz": 360
    },
    "id": "ljpeIqVqPsLd",
    "outputId": "1c558cbf-225b-4a5b-87ae-7dabc5f35fc1"
   },
   "outputs": [
    {
     "name": "stdout",
     "output_type": "stream",
     "text": [
      "Epoch 0/24\n",
      "----------\n"
     ]
    },
    {
     "name": "stderr",
     "output_type": "stream",
     "text": [
      "/usr/local/lib/python3.7/dist-packages/torch/utils/data/dataloader.py:481: UserWarning: This DataLoader will create 4 worker processes in total. Our suggested max number of worker in current system is 2, which is smaller than what this DataLoader is going to create. Please be aware that excessive worker creation might get DataLoader running slow or even freeze, lower the worker number to avoid potential slowness/freeze if necessary.\n",
      "  cpuset_checked))\n"
     ]
    },
    {
     "name": "stdout",
     "output_type": "stream",
     "text": [
      "train Loss: 0.6352 Acc: 0.6803\n",
      "val Loss: 0.1600 Acc: 0.9412\n",
      "\n",
      "Epoch 1/24\n",
      "----------\n",
      "train Loss: 0.5867 Acc: 0.7500\n",
      "val Loss: 0.2814 Acc: 0.8627\n",
      "\n",
      "Epoch 2/24\n",
      "----------\n",
      "train Loss: 0.3376 Acc: 0.8443\n",
      "val Loss: 0.1861 Acc: 0.9085\n",
      "\n",
      "Epoch 3/24\n",
      "----------\n",
      "train Loss: 0.4670 Acc: 0.8197\n",
      "val Loss: 0.2312 Acc: 0.9085\n",
      "\n",
      "Epoch 4/24\n",
      "----------\n",
      "train Loss: 0.5946 Acc: 0.7869\n",
      "val Loss: 0.4852 Acc: 0.8497\n",
      "\n",
      "Epoch 5/24\n",
      "----------\n",
      "train Loss: 0.6560 Acc: 0.7582\n",
      "val Loss: 0.2885 Acc: 0.9085\n",
      "\n",
      "Epoch 6/24\n",
      "----------\n",
      "train Loss: 0.4472 Acc: 0.8566\n",
      "val Loss: 0.3131 Acc: 0.8431\n",
      "\n",
      "Epoch 7/24\n",
      "----------\n",
      "train Loss: 0.4059 Acc: 0.8607\n",
      "val Loss: 0.2291 Acc: 0.9150\n",
      "\n",
      "Epoch 8/24\n",
      "----------\n",
      "train Loss: 0.3959 Acc: 0.8484\n",
      "val Loss: 0.2328 Acc: 0.9346\n",
      "\n",
      "Epoch 9/24\n",
      "----------\n",
      "train Loss: 0.3028 Acc: 0.8443\n",
      "val Loss: 0.2234 Acc: 0.9346\n",
      "\n",
      "Epoch 10/24\n",
      "----------\n",
      "train Loss: 0.3416 Acc: 0.8566\n",
      "val Loss: 0.2107 Acc: 0.9412\n",
      "\n",
      "Epoch 11/24\n",
      "----------\n",
      "train Loss: 0.3157 Acc: 0.8525\n",
      "val Loss: 0.2150 Acc: 0.9281\n",
      "\n",
      "Epoch 12/24\n",
      "----------\n",
      "train Loss: 0.2781 Acc: 0.8975\n",
      "val Loss: 0.2096 Acc: 0.9281\n",
      "\n",
      "Epoch 13/24\n",
      "----------\n",
      "train Loss: 0.3542 Acc: 0.8402\n",
      "val Loss: 0.1996 Acc: 0.9281\n",
      "\n",
      "Epoch 14/24\n",
      "----------\n",
      "train Loss: 0.2721 Acc: 0.8934\n",
      "val Loss: 0.1996 Acc: 0.9412\n",
      "\n",
      "Epoch 15/24\n",
      "----------\n",
      "train Loss: 0.2550 Acc: 0.8893\n",
      "val Loss: 0.1977 Acc: 0.9281\n",
      "\n",
      "Epoch 16/24\n",
      "----------\n",
      "train Loss: 0.3216 Acc: 0.8115\n",
      "val Loss: 0.1925 Acc: 0.9477\n",
      "\n",
      "Epoch 17/24\n",
      "----------\n",
      "train Loss: 0.2928 Acc: 0.8770\n",
      "val Loss: 0.1879 Acc: 0.9477\n",
      "\n",
      "Epoch 18/24\n",
      "----------\n",
      "train Loss: 0.3223 Acc: 0.8566\n",
      "val Loss: 0.1878 Acc: 0.9412\n",
      "\n",
      "Epoch 19/24\n",
      "----------\n",
      "train Loss: 0.2594 Acc: 0.8893\n",
      "val Loss: 0.1939 Acc: 0.9412\n",
      "\n",
      "Epoch 20/24\n",
      "----------\n",
      "train Loss: 0.2737 Acc: 0.8770\n",
      "val Loss: 0.2236 Acc: 0.9150\n",
      "\n",
      "Epoch 21/24\n",
      "----------\n",
      "train Loss: 0.3283 Acc: 0.8607\n",
      "val Loss: 0.2041 Acc: 0.9346\n",
      "\n",
      "Epoch 22/24\n",
      "----------\n",
      "train Loss: 0.3335 Acc: 0.8566\n",
      "val Loss: 0.1905 Acc: 0.9477\n",
      "\n",
      "Epoch 23/24\n",
      "----------\n",
      "train Loss: 0.2453 Acc: 0.8852\n",
      "val Loss: 0.1839 Acc: 0.9412\n",
      "\n",
      "Epoch 24/24\n",
      "----------\n",
      "train Loss: 0.2266 Acc: 0.8934\n",
      "val Loss: 0.2026 Acc: 0.9281\n",
      "\n",
      "Training complete in 2m 24s\n",
      "Best val Acc: 0.947712\n"
     ]
    }
   ],
   "source": [
    "model_ft = train_model(model_ft, criterion, optimizer_ft, exp_lr_scheduler,\n",
    "                       num_epochs=25)"
   ]
  },
  {
   "cell_type": "code",
   "execution_count": 11,
   "metadata": {
    "colab": {
     "base_uri": "https://localhost:8080/",
     "height": 636
    },
    "executionInfo": {
     "elapsed": 987,
     "status": "ok",
     "timestamp": 1646198779573,
     "user": {
      "displayName": "Zekun Li",
      "photoUrl": "https://lh3.googleusercontent.com/a/default-user=s64",
      "userId": "12189330262811539409"
     },
     "user_tz": 360
    },
    "id": "Fvj5ZS9jPsLd",
    "outputId": "8ba34fa1-0b7e-4d43-f074-9fa72d9c47c9"
   },
   "outputs": [
    {
     "name": "stderr",
     "output_type": "stream",
     "text": [
      "/usr/local/lib/python3.7/dist-packages/torch/utils/data/dataloader.py:481: UserWarning: This DataLoader will create 4 worker processes in total. Our suggested max number of worker in current system is 2, which is smaller than what this DataLoader is going to create. Please be aware that excessive worker creation might get DataLoader running slow or even freeze, lower the worker number to avoid potential slowness/freeze if necessary.\n",
      "  cpuset_checked))\n"
     ]
    },
    {
     "data": {
      "image/png": "[encoded data removed]",
      "text/plain": [
       "<Figure size 432x288 with 1 Axes>"
      ]
     },
     "metadata": {
      "needs_background": "light"
     },
     "output_type": "display_data"
    },
    {
     "data": {
      "image/png": "[encoded data removed]",
      "text/plain": [
       "<Figure size 432x288 with 1 Axes>"
      ]
     },
     "metadata": {
      "needs_background": "light"
     },
     "output_type": "display_data"
    },
    {
     "data": {
      "image/png": "[encoded data removed]",
      "text/plain": [
       "<Figure size 432x288 with 1 Axes>"
      ]
     },
     "metadata": {
      "needs_background": "light"
     },
     "output_type": "display_data"
    },
    {
     "data": {
      "image/png": "[encoded data removed]",
      "text/plain": [
       "<Figure size 432x288 with 1 Axes>"
      ]
     },
     "metadata": {
      "needs_background": "light"
     },
     "output_type": "display_data"
    },
    {
     "data": {
      "image/png": "[encoded data removed]",
      "text/plain": [
       "<Figure size 432x288 with 1 Axes>"
      ]
     },
     "metadata": {
      "needs_background": "light"
     },
     "output_type": "display_data"
    },
    {
     "data": {
      "image/png": "[encoded data removed]",
      "text/plain": [
       "<Figure size 432x288 with 1 Axes>"
      ]
     },
     "metadata": {
      "needs_background": "light"
     },
     "output_type": "display_data"
    }
   ],
   "source": [
    "visualize_model(model_ft)"
   ]
  },
  {
   "cell_type": "markdown",
   "metadata": {
    "id": "LKIk6ouzPsLe"
   },
   "source": [
    "ConvNet as fixed feature extractor\n",
    "----------------------------------\n",
    "\n",
    "Here, we need to freeze all the network except the final layer. We need\n",
    "to set ``requires_grad = False`` to freeze the parameters so that the\n",
    "gradients are not computed in ``backward()``.\n",
    "\n",
    "You can read more about this in the documentation\n",
    "`here <https://pytorch.org/docs/notes/autograd.html#excluding-subgraphs-from-backward>`__.\n",
    "\n",
    "\n"
   ]
  },
  {
   "cell_type": "code",
   "execution_count": 12,
   "metadata": {
    "executionInfo": {
     "elapsed": 512,
     "status": "ok",
     "timestamp": 1646198801786,
     "user": {
      "displayName": "Zekun Li",
      "photoUrl": "https://lh3.googleusercontent.com/a/default-user=s64",
      "userId": "12189330262811539409"
     },
     "user_tz": 360
    },
    "id": "xrnm85MLPsLe"
   },
   "outputs": [],
   "source": [
    "model_conv = torchvision.models.resnet18(pretrained=True)\n",
    "for param in model_conv.parameters():\n",
    "    param.requires_grad = False\n",
    "\n",
    "# Parameters of newly constructed modules have requires_grad=True by default\n",
    "num_ftrs = model_conv.fc.in_features\n",
    "model_conv.fc = nn.Linear(num_ftrs, 2)\n",
    "\n",
    "model_conv = model_conv.to(device)\n",
    "\n",
    "criterion = nn.CrossEntropyLoss()\n",
    "\n",
    "# Observe that only parameters of final layer are being optimized as\n",
    "# opposed to before.\n",
    "optimizer_conv = optim.SGD(model_conv.fc.parameters(), lr=0.001, momentum=0.9)\n",
    "\n",
    "# Decay LR by a factor of 0.1 every 7 epochs\n",
    "exp_lr_scheduler = lr_scheduler.StepLR(optimizer_conv, step_size=7, gamma=0.1)"
   ]
  },
  {
   "cell_type": "markdown",
   "metadata": {
    "id": "3Nt4akTFPsLf"
   },
   "source": [
    "Train and evaluate\n",
    "^^^^^^^^^^^^^^^^^^\n",
    "\n",
    "On CPU this will take about half the time compared to previous scenario.\n",
    "This is expected as gradients don't need to be computed for most of the\n",
    "network. However, forward does need to be computed.\n",
    "\n",
    "\n"
   ]
  },
  {
   "cell_type": "code",
   "execution_count": 13,
   "metadata": {
    "colab": {
     "base_uri": "https://localhost:8080/"
    },
    "executionInfo": {
     "elapsed": 103452,
     "status": "ok",
     "timestamp": 1646198911400,
     "user": {
      "displayName": "Zekun Li",
      "photoUrl": "https://lh3.googleusercontent.com/a/default-user=s64",
      "userId": "12189330262811539409"
     },
     "user_tz": 360
    },
    "id": "IGj-rhLZPsLf",
    "outputId": "1db935fb-e7da-48be-8d41-a8299f20bebc"
   },
   "outputs": [
    {
     "name": "stdout",
     "output_type": "stream",
     "text": [
      "Epoch 0/24\n",
      "----------\n"
     ]
    },
    {
     "name": "stderr",
     "output_type": "stream",
     "text": [
      "/usr/local/lib/python3.7/dist-packages/torch/utils/data/dataloader.py:481: UserWarning: This DataLoader will create 4 worker processes in total. Our suggested max number of worker in current system is 2, which is smaller than what this DataLoader is going to create. Please be aware that excessive worker creation might get DataLoader running slow or even freeze, lower the worker number to avoid potential slowness/freeze if necessary.\n",
      "  cpuset_checked))\n"
     ]
    },
    {
     "name": "stdout",
     "output_type": "stream",
     "text": [
      "train Loss: 0.6024 Acc: 0.6639\n",
      "val Loss: 0.2817 Acc: 0.8889\n",
      "\n",
      "Epoch 1/24\n",
      "----------\n",
      "train Loss: 0.5936 Acc: 0.7254\n",
      "val Loss: 0.6570 Acc: 0.7451\n",
      "\n",
      "Epoch 2/24\n",
      "----------\n",
      "train Loss: 0.5755 Acc: 0.7500\n",
      "val Loss: 0.3356 Acc: 0.8693\n",
      "\n",
      "Epoch 3/24\n",
      "----------\n",
      "train Loss: 0.4980 Acc: 0.7828\n",
      "val Loss: 0.1916 Acc: 0.9608\n",
      "\n",
      "Epoch 4/24\n",
      "----------\n",
      "train Loss: 0.3781 Acc: 0.8402\n",
      "val Loss: 0.2407 Acc: 0.9216\n",
      "\n",
      "Epoch 5/24\n",
      "----------\n",
      "train Loss: 0.2889 Acc: 0.8852\n",
      "val Loss: 0.2084 Acc: 0.9346\n",
      "\n",
      "Epoch 6/24\n",
      "----------\n",
      "train Loss: 0.2901 Acc: 0.8648\n",
      "val Loss: 0.2982 Acc: 0.9020\n",
      "\n",
      "Epoch 7/24\n",
      "----------\n",
      "train Loss: 0.2972 Acc: 0.8566\n",
      "val Loss: 0.1906 Acc: 0.9477\n",
      "\n",
      "Epoch 8/24\n",
      "----------\n",
      "train Loss: 0.4400 Acc: 0.8074\n",
      "val Loss: 0.2015 Acc: 0.9477\n",
      "\n",
      "Epoch 9/24\n",
      "----------\n",
      "train Loss: 0.3643 Acc: 0.8566\n",
      "val Loss: 0.1802 Acc: 0.9477\n",
      "\n",
      "Epoch 10/24\n",
      "----------\n",
      "train Loss: 0.3092 Acc: 0.8484\n",
      "val Loss: 0.2169 Acc: 0.9477\n",
      "\n",
      "Epoch 11/24\n",
      "----------\n",
      "train Loss: 0.3771 Acc: 0.8361\n",
      "val Loss: 0.2054 Acc: 0.9412\n",
      "\n",
      "Epoch 12/24\n",
      "----------\n",
      "train Loss: 0.3360 Acc: 0.8402\n",
      "val Loss: 0.1775 Acc: 0.9542\n",
      "\n",
      "Epoch 13/24\n",
      "----------\n",
      "train Loss: 0.3389 Acc: 0.8566\n",
      "val Loss: 0.1971 Acc: 0.9346\n",
      "\n",
      "Epoch 14/24\n",
      "----------\n",
      "train Loss: 0.3975 Acc: 0.8320\n",
      "val Loss: 0.2041 Acc: 0.9477\n",
      "\n",
      "Epoch 15/24\n",
      "----------\n",
      "train Loss: 0.4330 Acc: 0.8156\n",
      "val Loss: 0.1965 Acc: 0.9412\n",
      "\n",
      "Epoch 16/24\n",
      "----------\n",
      "train Loss: 0.4666 Acc: 0.7623\n",
      "val Loss: 0.2100 Acc: 0.9412\n",
      "\n",
      "Epoch 17/24\n",
      "----------\n",
      "train Loss: 0.3461 Acc: 0.8443\n",
      "val Loss: 0.2385 Acc: 0.9346\n",
      "\n",
      "Epoch 18/24\n",
      "----------\n",
      "train Loss: 0.3458 Acc: 0.8811\n",
      "val Loss: 0.2114 Acc: 0.9346\n",
      "\n",
      "Epoch 19/24\n",
      "----------\n",
      "train Loss: 0.3618 Acc: 0.8156\n",
      "val Loss: 0.1919 Acc: 0.9412\n",
      "\n",
      "Epoch 20/24\n",
      "----------\n",
      "train Loss: 0.3354 Acc: 0.8484\n",
      "val Loss: 0.2034 Acc: 0.9412\n",
      "\n",
      "Epoch 21/24\n",
      "----------\n",
      "train Loss: 0.3811 Acc: 0.8238\n",
      "val Loss: 0.2226 Acc: 0.9346\n",
      "\n",
      "Epoch 22/24\n",
      "----------\n",
      "train Loss: 0.3560 Acc: 0.8443\n",
      "val Loss: 0.1982 Acc: 0.9477\n",
      "\n",
      "Epoch 23/24\n",
      "----------\n",
      "train Loss: 0.3587 Acc: 0.8402\n",
      "val Loss: 0.2009 Acc: 0.9477\n",
      "\n",
      "Epoch 24/24\n",
      "----------\n",
      "train Loss: 0.3335 Acc: 0.8525\n",
      "val Loss: 0.2019 Acc: 0.9412\n",
      "\n",
      "Training complete in 1m 43s\n",
      "Best val Acc: 0.960784\n"
     ]
    }
   ],
   "source": [
    "model_conv = train_model(model_conv, criterion, optimizer_conv,\n",
    "                         exp_lr_scheduler, num_epochs=25)"
   ]
  },
  {
   "cell_type": "code",
   "execution_count": 14,
   "metadata": {
    "colab": {
     "base_uri": "https://localhost:8080/",
     "height": 636
    },
    "executionInfo": {
     "elapsed": 1111,
     "status": "ok",
     "timestamp": 1646199260774,
     "user": {
      "displayName": "Zekun Li",
      "photoUrl": "https://lh3.googleusercontent.com/a/default-user=s64",
      "userId": "12189330262811539409"
     },
     "user_tz": 360
    },
    "id": "rrg3CzT6PsLf",
    "outputId": "19fa6984-45b2-46c1-b5a9-7534eb57caba"
   },
   "outputs": [
    {
     "name": "stderr",
     "output_type": "stream",
     "text": [
      "/usr/local/lib/python3.7/dist-packages/torch/utils/data/dataloader.py:481: UserWarning: This DataLoader will create 4 worker processes in total. Our suggested max number of worker in current system is 2, which is smaller than what this DataLoader is going to create. Please be aware that excessive worker creation might get DataLoader running slow or even freeze, lower the worker number to avoid potential slowness/freeze if necessary.\n",
      "  cpuset_checked))\n"
     ]
    },
    {
     "data": {
      "image/png": "[encoded data removed]",
      "text/plain": [
       "<Figure size 432x288 with 1 Axes>"
      ]
     },
     "metadata": {
      "needs_background": "light"
     },
     "output_type": "display_data"
    },
    {
     "data": {
      "image/png": "[encoded data removed]",
      "text/plain": [
       "<Figure size 432x288 with 1 Axes>"
      ]
     },
     "metadata": {
      "needs_background": "light"
     },
     "output_type": "display_data"
    },
    {
     "data": {
      "image/png": "[encoded data removed]",
      "text/plain": [
       "<Figure size 432x288 with 1 Axes>"
      ]
     },
     "metadata": {
      "needs_background": "light"
     },
     "output_type": "display_data"
    },
    {
     "data": {
      "image/png": "[encoded data removed]",
      "text/plain": [
       "<Figure size 432x288 with 1 Axes>"
      ]
     },
     "metadata": {
      "needs_background": "light"
     },
     "output_type": "display_data"
    },
    {
     "data": {
      "image/png": "[encoded data removed]",
      "text/plain": [
       "<Figure size 432x288 with 1 Axes>"
      ]
     },
     "metadata": {
      "needs_background": "light"
     },
     "output_type": "display_data"
    },
    {
     "data": {
      "image/png": "[encoded data removed]",
      "text/plain": [
       "<Figure size 432x288 with 1 Axes>"
      ]
     },
     "metadata": {
      "needs_background": "light"
     },
     "output_type": "display_data"
    }
   ],
   "source": [
    "visualize_model(model_conv)\n",
    "\n",
    "plt.ioff()\n",
    "plt.show()"
   ]
  },
  {
   "cell_type": "markdown",
   "metadata": {
    "id": "XPv3OQBHPsLg"
   },
   "source": [
    "Further Learning\n",
    "-----------------\n",
    "\n",
    "If you would like to learn more about the applications of transfer learning,\n",
    "checkout our `Quantized Transfer Learning for Computer Vision Tutorial <https://pytorch.org/tutorials/intermediate/quantized_transfer_learning_tutorial.html>`_.\n",
    "\n",
    "\n",
    "\n"
   ]
  }
 ],
 "metadata": {
  "accelerator": "GPU",
  "colab": {
   "collapsed_sections": [],
   "name": "transfer_learning_tutorial.ipynb",
   "provenance": []
  },
  "kernelspec": {
   "display_name": "Python 3",
   "language": "python",
   "name": "python3"
  },
  "language_info": {
   "codemirror_mode": {
    "name": "ipython",
    "version": 3
   },
   "file_extension": ".py",
   "mimetype": "text/x-python",
   "name": "python",
   "nbconvert_exporter": "python",
   "pygments_lexer": "ipython3",
   "version": "3.8.5"
  },
  "widgets": {
   "application/vnd.jupyter.widget-state+json": {
    "08522a4d27ab470f9e326b63656886da": {
     "model_module": "@jupyter-widgets/base",
     "model_module_version": "1.2.0",
     "model_name": "LayoutModel",
     "state": {
      "_model_module": "@jupyter-widgets/base",
      "_model_module_version": "1.2.0",
      "_model_name": "LayoutModel",
      "_view_count": null,
      "_view_module": "@jupyter-widgets/base",
      "_view_module_version": "1.2.0",
      "_view_name": "LayoutView",
      "align_content": null,
      "align_items": null,
      "align_self": null,
      "border": null,
      "bottom": null,
      "display": null,
      "flex": null,
      "flex_flow": null,
      "grid_area": null,
      "grid_auto_columns": null,
      "grid_auto_flow": null,
      "grid_auto_rows": null,
      "grid_column": null,
      "grid_gap": null,
      "grid_row": null,
      "grid_template_areas": null,
      "grid_template_columns": null,
      "grid_template_rows": null,
      "height": null,
      "justify_content": null,
      "justify_items": null,
      "left": null,
      "margin": null,
      "max_height": null,
      "max_width": null,
      "min_height": null,
      "min_width": null,
      "object_fit": null,
      "object_position": null,
      "order": null,
      "overflow": null,
      "overflow_x": null,
      "overflow_y": null,
      "padding": null,
      "right": null,
      "top": null,
      "visibility": null,
      "width": null
     }
    },
    "1d9976026a8f4aed95445ba76eb666e7": {
     "model_module": "@jupyter-widgets/controls",
     "model_module_version": "1.5.0",
     "model_name": "FloatProgressModel",
     "state": {
      "_dom_classes": [],
      "_model_module": "@jupyter-widgets/controls",
      "_model_module_version": "1.5.0",
      "_model_name": "FloatProgressModel",
      "_view_count": null,
      "_view_module": "@jupyter-widgets/controls",
      "_view_module_version": "1.5.0",
      "_view_name": "ProgressView",
      "bar_style": "success",
      "description": "",
      "description_tooltip": null,
      "layout": "IPY_MODEL_cf70911538474036b9cb4795d9446e4c",
      "max": 46830571,
      "min": 0,
      "orientation": "horizontal",
      "style": "IPY_MODEL_fbd2fbf82a52451eab01423d241dbcc8",
      "value": 46830571
     }
    },
    "426af1949de544218cc5ee7d3340b031": {
     "model_module": "@jupyter-widgets/controls",
     "model_module_version": "1.5.0",
     "model_name": "DescriptionStyleModel",
     "state": {
      "_model_module": "@jupyter-widgets/controls",
      "_model_module_version": "1.5.0",
      "_model_name": "DescriptionStyleModel",
      "_view_count": null,
      "_view_module": "@jupyter-widgets/base",
      "_view_module_version": "1.2.0",
      "_view_name": "StyleView",
      "description_width": ""
     }
    },
    "50418e862f924212bcbad9127e4f2528": {
     "model_module": "@jupyter-widgets/controls",
     "model_module_version": "1.5.0",
     "model_name": "HBoxModel",
     "state": {
      "_dom_classes": [],
      "_model_module": "@jupyter-widgets/controls",
      "_model_module_version": "1.5.0",
      "_model_name": "HBoxModel",
      "_view_count": null,
      "_view_module": "@jupyter-widgets/controls",
      "_view_module_version": "1.5.0",
      "_view_name": "HBoxView",
      "box_style": "",
      "children": [
       "IPY_MODEL_52d1fd9d3d5e4c2aa0b3773a0080a5b2",
       "IPY_MODEL_1d9976026a8f4aed95445ba76eb666e7",
       "IPY_MODEL_5a34cbe107fb4c3f915aef54a0d18355"
      ],
      "layout": "IPY_MODEL_d26aa55eb1f94ee68a9258f242f6a313"
     }
    },
    "52d1fd9d3d5e4c2aa0b3773a0080a5b2": {
     "model_module": "@jupyter-widgets/controls",
     "model_module_version": "1.5.0",
     "model_name": "HTMLModel",
     "state": {
      "_dom_classes": [],
      "_model_module": "@jupyter-widgets/controls",
      "_model_module_version": "1.5.0",
      "_model_name": "HTMLModel",
      "_view_count": null,
      "_view_module": "@jupyter-widgets/controls",
      "_view_module_version": "1.5.0",
      "_view_name": "HTMLView",
      "description": "",
      "description_tooltip": null,
      "layout": "IPY_MODEL_7e75992d47d24e159e48aa1c0f3a4c5a",
      "placeholder": "​",
      "style": "IPY_MODEL_426af1949de544218cc5ee7d3340b031",
      "value": "100%"
     }
    },
    "5a34cbe107fb4c3f915aef54a0d18355": {
     "model_module": "@jupyter-widgets/controls",
     "model_module_version": "1.5.0",
     "model_name": "HTMLModel",
     "state": {
      "_dom_classes": [],
      "_model_module": "@jupyter-widgets/controls",
      "_model_module_version": "1.5.0",
      "_model_name": "HTMLModel",
      "_view_count": null,
      "_view_module": "@jupyter-widgets/controls",
      "_view_module_version": "1.5.0",
      "_view_name": "HTMLView",
      "description": "",
      "description_tooltip": null,
      "layout": "IPY_MODEL_08522a4d27ab470f9e326b63656886da",
      "placeholder": "​",
      "style": "IPY_MODEL_a792e301aeaa41b5b9edfa3c8488d624",
      "value": " 44.7M/44.7M [00:00&lt;00:00, 89.8MB/s]"
     }
    },
    "7e75992d47d24e159e48aa1c0f3a4c5a": {
     "model_module": "@jupyter-widgets/base",
     "model_module_version": "1.2.0",
     "model_name": "LayoutModel",
     "state": {
      "_model_module": "@jupyter-widgets/base",
      "_model_module_version": "1.2.0",
      "_model_name": "LayoutModel",
      "_view_count": null,
      "_view_module": "@jupyter-widgets/base",
      "_view_module_version": "1.2.0",
      "_view_name": "LayoutView",
      "align_content": null,
      "align_items": null,
      "align_self": null,
      "border": null,
      "bottom": null,
      "display": null,
      "flex": null,
      "flex_flow": null,
      "grid_area": null,
      "grid_auto_columns": null,
      "grid_auto_flow": null,
      "grid_auto_rows": null,
      "grid_column": null,
      "grid_gap": null,
      "grid_row": null,
      "grid_template_areas": null,
      "grid_template_columns": null,
      "grid_template_rows": null,
      "height": null,
      "justify_content": null,
      "justify_items": null,
      "left": null,
      "margin": null,
      "max_height": null,
      "max_width": null,
      "min_height": null,
      "min_width": null,
      "object_fit": null,
      "object_position": null,
      "order": null,
      "overflow": null,
      "overflow_x": null,
      "overflow_y": null,
      "padding": null,
      "right": null,
      "top": null,
      "visibility": null,
      "width": null
     }
    },
    "a792e301aeaa41b5b9edfa3c8488d624": {
     "model_module": "@jupyter-widgets/controls",
     "model_module_version": "1.5.0",
     "model_name": "DescriptionStyleModel",
     "state": {
      "_model_module": "@jupyter-widgets/controls",
      "_model_module_version": "1.5.0",
      "_model_name": "DescriptionStyleModel",
      "_view_count": null,
      "_view_module": "@jupyter-widgets/base",
      "_view_module_version": "1.2.0",
      "_view_name": "StyleView",
      "description_width": ""
     }
    },
    "cf70911538474036b9cb4795d9446e4c": {
     "model_module": "@jupyter-widgets/base",
     "model_module_version": "1.2.0",
     "model_name": "LayoutModel",
     "state": {
      "_model_module": "@jupyter-widgets/base",
      "_model_module_version": "1.2.0",
      "_model_name": "LayoutModel",
      "_view_count": null,
      "_view_module": "@jupyter-widgets/base",
      "_view_module_version": "1.2.0",
      "_view_name": "LayoutView",
      "align_content": null,
      "align_items": null,
      "align_self": null,
      "border": null,
      "bottom": null,
      "display": null,
      "flex": null,
      "flex_flow": null,
      "grid_area": null,
      "grid_auto_columns": null,
      "grid_auto_flow": null,
      "grid_auto_rows": null,
      "grid_column": null,
      "grid_gap": null,
      "grid_row": null,
      "grid_template_areas": null,
      "grid_template_columns": null,
      "grid_template_rows": null,
      "height": null,
      "justify_content": null,
      "justify_items": null,
      "left": null,
      "margin": null,
      "max_height": null,
      "max_width": null,
      "min_height": null,
      "min_width": null,
      "object_fit": null,
      "object_position": null,
      "order": null,
      "overflow": null,
      "overflow_x": null,
      "overflow_y": null,
      "padding": null,
      "right": null,
      "top": null,
      "visibility": null,
      "width": null
     }
    },
    "d26aa55eb1f94ee68a9258f242f6a313": {
     "model_module": "@jupyter-widgets/base",
     "model_module_version": "1.2.0",
     "model_name": "LayoutModel",
     "state": {
      "_model_module": "@jupyter-widgets/base",
      "_model_module_version": "1.2.0",
      "_model_name": "LayoutModel",
      "_view_count": null,
      "_view_module": "@jupyter-widgets/base",
      "_view_module_version": "1.2.0",
      "_view_name": "LayoutView",
      "align_content": null,
      "align_items": null,
      "align_self": null,
      "border": null,
      "bottom": null,
      "display": null,
      "flex": null,
      "flex_flow": null,
      "grid_area": null,
      "grid_auto_columns": null,
      "grid_auto_flow": null,
      "grid_auto_rows": null,
      "grid_column": null,
      "grid_gap": null,
      "grid_row": null,
      "grid_template_areas": null,
      "grid_template_columns": null,
      "grid_template_rows": null,
      "height": null,
      "justify_content": null,
      "justify_items": null,
      "left": null,
      "margin": null,
      "max_height": null,
      "max_width": null,
      "min_height": null,
      "min_width": null,
      "object_fit": null,
      "object_position": null,
      "order": null,
      "overflow": null,
      "overflow_x": null,
      "overflow_y": null,
      "padding": null,
      "right": null,
      "top": null,
      "visibility": null,
      "width": null
     }
    },
    "fbd2fbf82a52451eab01423d241dbcc8": {
     "model_module": "@jupyter-widgets/controls",
     "model_module_version": "1.5.0",
     "model_name": "ProgressStyleModel",
     "state": {
      "_model_module": "@jupyter-widgets/controls",
      "_model_module_version": "1.5.0",
      "_model_name": "ProgressStyleModel",
      "_view_count": null,
      "_view_module": "@jupyter-widgets/base",
      "_view_module_version": "1.2.0",
      "_view_name": "StyleView",
      "bar_color": null,
      "description_width": ""
     }
    }
   }
  }
 },
 "nbformat": 4,
 "nbformat_minor": 1
}
